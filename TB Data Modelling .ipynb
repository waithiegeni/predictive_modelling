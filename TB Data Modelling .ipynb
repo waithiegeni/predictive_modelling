{
 "cells": [
  {
   "cell_type": "markdown",
   "metadata": {},
   "source": [
    "## TB Model Development"
   ]
  },
  {
   "cell_type": "markdown",
   "metadata": {},
   "source": [
    "In this notebook, we will develop several models that will predict the incurrence of TB using variables or features. This is just an estimate, but should give us an objective idea of how much the incurrence of TB is.\n",
    "\n",
    "We know that some of the good predictors of Incurrence of TB could be:\n",
    "<ul>\n",
    "    \n",
    "  <li>Population</li>\n",
    "    <li>Income Group/Class</li>\n",
    "    <li>Location/region</li>\n",
    "    <li>HIV</li>\n",
    "</ul>\n",
    "\n",
    "We will develop a model using these variables as the predictor variables."
   ]
  },
  {
   "cell_type": "markdown",
   "metadata": {},
   "source": [
    "By developing a model, it will help us understand the exact relationship between different variables and how these variables are used to predict the incurrence of TB"
   ]
  },
  {
   "cell_type": "markdown",
   "metadata": {},
   "source": [
    "Import Libraries"
   ]
  },
  {
   "cell_type": "code",
   "execution_count": 2,
   "metadata": {},
   "outputs": [],
   "source": [
    "import pandas as pd\n",
    "import numpy as np\n",
    "import matplotlib.pyplot as plt"
   ]
  },
  {
   "cell_type": "markdown",
   "metadata": {},
   "source": [
    "load data and store in dataframe all_tb:"
   ]
  },
  {
   "cell_type": "code",
   "execution_count": 3,
   "metadata": {},
   "outputs": [
    {
     "data": {
      "text/plain": [
       "(3850, 47)"
      ]
     },
     "execution_count": 3,
     "metadata": {},
     "output_type": "execute_result"
    }
   ],
   "source": [
    "all_tb = pd.read_csv('https://raw.githubusercontent.com/waithiegeni/python_analysis/master/TB_burden_countries_2019-01-11.csv', encoding = 'utf-8')\n",
    "all_tb.shape"
   ]
  },
  {
   "cell_type": "markdown",
   "metadata": {},
   "source": [
    "Our data for income group is in a seperate table, we will therefore need to load it and merge it to our TB data."
   ]
  },
  {
   "cell_type": "code",
   "execution_count": 4,
   "metadata": {},
   "outputs": [
    {
     "data": {
      "text/html": [
       "<div>\n",
       "<style scoped>\n",
       "    .dataframe tbody tr th:only-of-type {\n",
       "        vertical-align: middle;\n",
       "    }\n",
       "\n",
       "    .dataframe tbody tr th {\n",
       "        vertical-align: top;\n",
       "    }\n",
       "\n",
       "    .dataframe thead th {\n",
       "        text-align: right;\n",
       "    }\n",
       "</style>\n",
       "<table border=\"1\" class=\"dataframe\">\n",
       "  <thead>\n",
       "    <tr style=\"text-align: right;\">\n",
       "      <th></th>\n",
       "      <th>country</th>\n",
       "      <th>iso3</th>\n",
       "      <th>e_inc_num</th>\n",
       "      <th>e_pop_num</th>\n",
       "      <th>IncomeGroup</th>\n",
       "    </tr>\n",
       "  </thead>\n",
       "  <tbody>\n",
       "    <tr>\n",
       "      <th>0</th>\n",
       "      <td>Afghanistan</td>\n",
       "      <td>AFG</td>\n",
       "      <td>38000</td>\n",
       "      <td>20093756</td>\n",
       "      <td>Low income</td>\n",
       "    </tr>\n",
       "  </tbody>\n",
       "</table>\n",
       "</div>"
      ],
      "text/plain": [
       "       country iso3  e_inc_num  e_pop_num IncomeGroup\n",
       "0  Afghanistan  AFG      38000   20093756  Low income"
      ]
     },
     "execution_count": 4,
     "metadata": {},
     "output_type": "execute_result"
    }
   ],
   "source": [
    "gdp = pd.read_csv('~/Downloads/Income group to TB..csv', encoding = 'utf-8')\n",
    "gdp.head(1)"
   ]
  },
  {
   "cell_type": "code",
   "execution_count": 5,
   "metadata": {},
   "outputs": [
    {
     "data": {
      "text/html": [
       "<div>\n",
       "<style scoped>\n",
       "    .dataframe tbody tr th:only-of-type {\n",
       "        vertical-align: middle;\n",
       "    }\n",
       "\n",
       "    .dataframe tbody tr th {\n",
       "        vertical-align: top;\n",
       "    }\n",
       "\n",
       "    .dataframe thead th {\n",
       "        text-align: right;\n",
       "    }\n",
       "</style>\n",
       "<table border=\"1\" class=\"dataframe\">\n",
       "  <thead>\n",
       "    <tr style=\"text-align: right;\">\n",
       "      <th></th>\n",
       "      <th>country</th>\n",
       "      <th>g_whoregion</th>\n",
       "      <th>e_inc_num</th>\n",
       "      <th>iso3</th>\n",
       "      <th>e_pop_num</th>\n",
       "      <th>e_inc_tbhiv_num</th>\n",
       "    </tr>\n",
       "  </thead>\n",
       "  <tbody>\n",
       "    <tr>\n",
       "      <th>0</th>\n",
       "      <td>Afghanistan</td>\n",
       "      <td>EMR</td>\n",
       "      <td>38000</td>\n",
       "      <td>AFG</td>\n",
       "      <td>20093756</td>\n",
       "      <td>110.0</td>\n",
       "    </tr>\n",
       "  </tbody>\n",
       "</table>\n",
       "</div>"
      ],
      "text/plain": [
       "       country g_whoregion  e_inc_num iso3  e_pop_num  e_inc_tbhiv_num\n",
       "0  Afghanistan         EMR      38000  AFG   20093756            110.0"
      ]
     },
     "execution_count": 5,
     "metadata": {},
     "output_type": "execute_result"
    }
   ],
   "source": [
    "#select required columns \n",
    "all_tb = all_tb [['country', 'g_whoregion', 'e_inc_num','iso3', 'e_pop_num' ,'e_inc_tbhiv_num', ]]\n",
    "all_tb.head(1)"
   ]
  },
  {
   "cell_type": "code",
   "execution_count": 6,
   "metadata": {},
   "outputs": [
    {
     "data": {
      "text/html": [
       "<div>\n",
       "<style scoped>\n",
       "    .dataframe tbody tr th:only-of-type {\n",
       "        vertical-align: middle;\n",
       "    }\n",
       "\n",
       "    .dataframe tbody tr th {\n",
       "        vertical-align: top;\n",
       "    }\n",
       "\n",
       "    .dataframe thead th {\n",
       "        text-align: right;\n",
       "    }\n",
       "</style>\n",
       "<table border=\"1\" class=\"dataframe\">\n",
       "  <thead>\n",
       "    <tr style=\"text-align: right;\">\n",
       "      <th></th>\n",
       "      <th>country_x</th>\n",
       "      <th>g_whoregion</th>\n",
       "      <th>e_inc_num_x</th>\n",
       "      <th>iso3</th>\n",
       "      <th>e_pop_num_x</th>\n",
       "      <th>e_inc_tbhiv_num</th>\n",
       "      <th>country_y</th>\n",
       "      <th>e_inc_num_y</th>\n",
       "      <th>e_pop_num_y</th>\n",
       "      <th>IncomeGroup</th>\n",
       "    </tr>\n",
       "  </thead>\n",
       "  <tbody>\n",
       "    <tr>\n",
       "      <th>0</th>\n",
       "      <td>Afghanistan</td>\n",
       "      <td>EMR</td>\n",
       "      <td>38000</td>\n",
       "      <td>AFG</td>\n",
       "      <td>20093756</td>\n",
       "      <td>110.0</td>\n",
       "      <td>Afghanistan</td>\n",
       "      <td>38000</td>\n",
       "      <td>20093756</td>\n",
       "      <td>Low income</td>\n",
       "    </tr>\n",
       "    <tr>\n",
       "      <th>1</th>\n",
       "      <td>Afghanistan</td>\n",
       "      <td>EMR</td>\n",
       "      <td>40000</td>\n",
       "      <td>AFG</td>\n",
       "      <td>20966463</td>\n",
       "      <td>100.0</td>\n",
       "      <td>Afghanistan</td>\n",
       "      <td>38000</td>\n",
       "      <td>20093756</td>\n",
       "      <td>Low income</td>\n",
       "    </tr>\n",
       "  </tbody>\n",
       "</table>\n",
       "</div>"
      ],
      "text/plain": [
       "     country_x g_whoregion  e_inc_num_x iso3  e_pop_num_x  e_inc_tbhiv_num  \\\n",
       "0  Afghanistan         EMR        38000  AFG     20093756            110.0   \n",
       "1  Afghanistan         EMR        40000  AFG     20966463            100.0   \n",
       "\n",
       "     country_y  e_inc_num_y  e_pop_num_y IncomeGroup  \n",
       "0  Afghanistan        38000     20093756  Low income  \n",
       "1  Afghanistan        38000     20093756  Low income  "
      ]
     },
     "execution_count": 6,
     "metadata": {},
     "output_type": "execute_result"
    }
   ],
   "source": [
    "#merge both datasets\n",
    "merged_data = pd.merge(all_tb,gdp, on = ['iso3'])\n",
    "merged_data.head(2)"
   ]
  },
  {
   "cell_type": "code",
   "execution_count": 7,
   "metadata": {},
   "outputs": [
    {
     "data": {
      "text/plain": [
       "((3850, 6), (3719, 10))"
      ]
     },
     "execution_count": 7,
     "metadata": {},
     "output_type": "execute_result"
    }
   ],
   "source": [
    "all_tb.shape , merged_data.shape"
   ]
  },
  {
   "cell_type": "markdown",
   "metadata": {},
   "source": [
    "We can see that we have lost 131 rows of our data, let's find out which of the rows were not included during the merge"
   ]
  },
  {
   "cell_type": "code",
   "execution_count": 8,
   "metadata": {},
   "outputs": [
    {
     "data": {
      "text/plain": [
       "(131, 16)"
      ]
     },
     "execution_count": 8,
     "metadata": {},
     "output_type": "execute_result"
    }
   ],
   "source": [
    "not_included = pd.merge(all_tb, merged_data, on = ['iso3'], how = \"left\", indicator = True)\n",
    "\n",
    "not_included = not_included.loc[not_included[\"_merge\"] == \"left_only\"]\n",
    "not_included.shape"
   ]
  },
  {
   "cell_type": "code",
   "execution_count": 9,
   "metadata": {},
   "outputs": [
    {
     "data": {
      "text/html": [
       "<div>\n",
       "<style scoped>\n",
       "    .dataframe tbody tr th:only-of-type {\n",
       "        vertical-align: middle;\n",
       "    }\n",
       "\n",
       "    .dataframe tbody tr th {\n",
       "        vertical-align: top;\n",
       "    }\n",
       "\n",
       "    .dataframe thead th {\n",
       "        text-align: right;\n",
       "    }\n",
       "</style>\n",
       "<table border=\"1\" class=\"dataframe\">\n",
       "  <thead>\n",
       "    <tr style=\"text-align: right;\">\n",
       "      <th></th>\n",
       "      <th>country</th>\n",
       "      <th>g_whoregion_x</th>\n",
       "      <th>e_inc_num</th>\n",
       "      <th>iso3</th>\n",
       "      <th>e_pop_num</th>\n",
       "      <th>e_inc_tbhiv_num_x</th>\n",
       "      <th>country_x</th>\n",
       "      <th>g_whoregion_y</th>\n",
       "      <th>e_inc_num_x</th>\n",
       "      <th>e_pop_num_x</th>\n",
       "      <th>e_inc_tbhiv_num_y</th>\n",
       "      <th>country_y</th>\n",
       "      <th>e_inc_num_y</th>\n",
       "      <th>e_pop_num_y</th>\n",
       "      <th>IncomeGroup</th>\n",
       "      <th>_merge</th>\n",
       "    </tr>\n",
       "  </thead>\n",
       "  <tbody>\n",
       "    <tr>\n",
       "      <th>1944</th>\n",
       "      <td>Anguilla</td>\n",
       "      <td>AMR</td>\n",
       "      <td>2</td>\n",
       "      <td>AIA</td>\n",
       "      <td>11070</td>\n",
       "      <td>NaN</td>\n",
       "      <td>NaN</td>\n",
       "      <td>NaN</td>\n",
       "      <td>NaN</td>\n",
       "      <td>NaN</td>\n",
       "      <td>NaN</td>\n",
       "      <td>NaN</td>\n",
       "      <td>NaN</td>\n",
       "      <td>NaN</td>\n",
       "      <td>NaN</td>\n",
       "      <td>left_only</td>\n",
       "    </tr>\n",
       "    <tr>\n",
       "      <th>1945</th>\n",
       "      <td>Anguilla</td>\n",
       "      <td>AMR</td>\n",
       "      <td>3</td>\n",
       "      <td>AIA</td>\n",
       "      <td>11372</td>\n",
       "      <td>NaN</td>\n",
       "      <td>NaN</td>\n",
       "      <td>NaN</td>\n",
       "      <td>NaN</td>\n",
       "      <td>NaN</td>\n",
       "      <td>NaN</td>\n",
       "      <td>NaN</td>\n",
       "      <td>NaN</td>\n",
       "      <td>NaN</td>\n",
       "      <td>NaN</td>\n",
       "      <td>left_only</td>\n",
       "    </tr>\n",
       "    <tr>\n",
       "      <th>1946</th>\n",
       "      <td>Anguilla</td>\n",
       "      <td>AMR</td>\n",
       "      <td>3</td>\n",
       "      <td>AIA</td>\n",
       "      <td>11692</td>\n",
       "      <td>NaN</td>\n",
       "      <td>NaN</td>\n",
       "      <td>NaN</td>\n",
       "      <td>NaN</td>\n",
       "      <td>NaN</td>\n",
       "      <td>NaN</td>\n",
       "      <td>NaN</td>\n",
       "      <td>NaN</td>\n",
       "      <td>NaN</td>\n",
       "      <td>NaN</td>\n",
       "      <td>left_only</td>\n",
       "    </tr>\n",
       "    <tr>\n",
       "      <th>1947</th>\n",
       "      <td>Anguilla</td>\n",
       "      <td>AMR</td>\n",
       "      <td>3</td>\n",
       "      <td>AIA</td>\n",
       "      <td>12021</td>\n",
       "      <td>NaN</td>\n",
       "      <td>NaN</td>\n",
       "      <td>NaN</td>\n",
       "      <td>NaN</td>\n",
       "      <td>NaN</td>\n",
       "      <td>NaN</td>\n",
       "      <td>NaN</td>\n",
       "      <td>NaN</td>\n",
       "      <td>NaN</td>\n",
       "      <td>NaN</td>\n",
       "      <td>left_only</td>\n",
       "    </tr>\n",
       "    <tr>\n",
       "      <th>1948</th>\n",
       "      <td>Anguilla</td>\n",
       "      <td>AMR</td>\n",
       "      <td>3</td>\n",
       "      <td>AIA</td>\n",
       "      <td>12339</td>\n",
       "      <td>NaN</td>\n",
       "      <td>NaN</td>\n",
       "      <td>NaN</td>\n",
       "      <td>NaN</td>\n",
       "      <td>NaN</td>\n",
       "      <td>NaN</td>\n",
       "      <td>NaN</td>\n",
       "      <td>NaN</td>\n",
       "      <td>NaN</td>\n",
       "      <td>NaN</td>\n",
       "      <td>left_only</td>\n",
       "    </tr>\n",
       "  </tbody>\n",
       "</table>\n",
       "</div>"
      ],
      "text/plain": [
       "       country g_whoregion_x  e_inc_num iso3  e_pop_num  e_inc_tbhiv_num_x  \\\n",
       "1944  Anguilla           AMR          2  AIA      11070                NaN   \n",
       "1945  Anguilla           AMR          3  AIA      11372                NaN   \n",
       "1946  Anguilla           AMR          3  AIA      11692                NaN   \n",
       "1947  Anguilla           AMR          3  AIA      12021                NaN   \n",
       "1948  Anguilla           AMR          3  AIA      12339                NaN   \n",
       "\n",
       "     country_x g_whoregion_y  e_inc_num_x  e_pop_num_x  e_inc_tbhiv_num_y  \\\n",
       "1944       NaN           NaN          NaN          NaN                NaN   \n",
       "1945       NaN           NaN          NaN          NaN                NaN   \n",
       "1946       NaN           NaN          NaN          NaN                NaN   \n",
       "1947       NaN           NaN          NaN          NaN                NaN   \n",
       "1948       NaN           NaN          NaN          NaN                NaN   \n",
       "\n",
       "     country_y  e_inc_num_y  e_pop_num_y IncomeGroup     _merge  \n",
       "1944       NaN          NaN          NaN         NaN  left_only  \n",
       "1945       NaN          NaN          NaN         NaN  left_only  \n",
       "1946       NaN          NaN          NaN         NaN  left_only  \n",
       "1947       NaN          NaN          NaN         NaN  left_only  \n",
       "1948       NaN          NaN          NaN         NaN  left_only  "
      ]
     },
     "execution_count": 9,
     "metadata": {},
     "output_type": "execute_result"
    }
   ],
   "source": [
    "not_included.head()"
   ]
  },
  {
   "cell_type": "markdown",
   "metadata": {},
   "source": [
    "We can see that the data not included were countries not on the gdp data , let's include them back because they have significant data of our response variable and we will later on replace the missing data for the exploratory variables that are necessary."
   ]
  },
  {
   "cell_type": "code",
   "execution_count": 10,
   "metadata": {},
   "outputs": [],
   "source": [
    "#rename merged data columns\n",
    "merged_data.rename(columns = {'country_x': 'country' , 'e_inc_num_x' : 'tb' , 'e_pop_num_x' : 'population', 'g_whoregion' : 'region', 'e_inc_tbhiv_num' : 'hiv'  }, inplace = True)\n",
    "\n",
    "not_included.rename(columns = {'e_inc_num' : 'tb' , 'e_pop_num' : 'population', 'g_whoregion_x' : 'region'}, inplace = True)"
   ]
  },
  {
   "cell_type": "code",
   "execution_count": 11,
   "metadata": {},
   "outputs": [
    {
     "data": {
      "text/plain": [
       "(3850, 17)"
      ]
     },
     "execution_count": 11,
     "metadata": {},
     "output_type": "execute_result"
    }
   ],
   "source": [
    "#concatenate\n",
    "merge = pd.concat([merged_data, not_included], sort = True , ignore_index = True)\n",
    "merge.shape"
   ]
  },
  {
   "cell_type": "code",
   "execution_count": 12,
   "metadata": {},
   "outputs": [
    {
     "data": {
      "text/html": [
       "<div>\n",
       "<style scoped>\n",
       "    .dataframe tbody tr th:only-of-type {\n",
       "        vertical-align: middle;\n",
       "    }\n",
       "\n",
       "    .dataframe tbody tr th {\n",
       "        vertical-align: top;\n",
       "    }\n",
       "\n",
       "    .dataframe thead th {\n",
       "        text-align: right;\n",
       "    }\n",
       "</style>\n",
       "<table border=\"1\" class=\"dataframe\">\n",
       "  <thead>\n",
       "    <tr style=\"text-align: right;\">\n",
       "      <th></th>\n",
       "      <th>country</th>\n",
       "      <th>region</th>\n",
       "      <th>IncomeGroup</th>\n",
       "      <th>tb</th>\n",
       "      <th>hiv</th>\n",
       "      <th>population</th>\n",
       "    </tr>\n",
       "  </thead>\n",
       "  <tbody>\n",
       "    <tr>\n",
       "      <th>0</th>\n",
       "      <td>Afghanistan</td>\n",
       "      <td>EMR</td>\n",
       "      <td>Low income</td>\n",
       "      <td>38000</td>\n",
       "      <td>110.0</td>\n",
       "      <td>20093756</td>\n",
       "    </tr>\n",
       "    <tr>\n",
       "      <th>1</th>\n",
       "      <td>Afghanistan</td>\n",
       "      <td>EMR</td>\n",
       "      <td>Low income</td>\n",
       "      <td>40000</td>\n",
       "      <td>100.0</td>\n",
       "      <td>20966463</td>\n",
       "    </tr>\n",
       "  </tbody>\n",
       "</table>\n",
       "</div>"
      ],
      "text/plain": [
       "       country region IncomeGroup     tb    hiv  population\n",
       "0  Afghanistan    EMR  Low income  38000  110.0    20093756\n",
       "1  Afghanistan    EMR  Low income  40000  100.0    20966463"
      ]
     },
     "execution_count": 12,
     "metadata": {},
     "output_type": "execute_result"
    }
   ],
   "source": [
    "#select required columns\n",
    "tb =  merge[['country','region', 'IncomeGroup', 'tb', 'hiv', 'population']]\n",
    "tb.head(2)"
   ]
  },
  {
   "cell_type": "markdown",
   "metadata": {},
   "source": [
    "#### Evaluating for Missing Data"
   ]
  },
  {
   "cell_type": "code",
   "execution_count": 13,
   "metadata": {},
   "outputs": [
    {
     "name": "stdout",
     "output_type": "stream",
     "text": [
      "country\n",
      "False    3850\n",
      "Name: country, dtype: int64\n",
      "region\n",
      "False    3850\n",
      "Name: region, dtype: int64\n",
      "IncomeGroup\n",
      "False    3719\n",
      "True      131\n",
      "Name: IncomeGroup, dtype: int64\n",
      "tb\n",
      "False    3850\n",
      "Name: tb, dtype: int64\n",
      "hiv\n",
      "False    3513\n",
      "True      337\n",
      "Name: hiv, dtype: int64\n",
      "population\n",
      "False    3850\n",
      "Name: population, dtype: int64\n"
     ]
    }
   ],
   "source": [
    "#missing values\n",
    "\n",
    "missing_data = tb.isnull()\n",
    "\n",
    "for column in missing_data.columns.values.tolist():\n",
    "    print(column)\n",
    "    print (missing_data[column].value_counts())"
   ]
  },
  {
   "cell_type": "markdown",
   "metadata": {},
   "source": [
    "Based on the summary above, each column has 3850 rows of data, 2 columns contain missing data:\n",
    "<ol>\n",
    "    <li>\"IncomeGroup\" : 131 missing data</li>\n",
    "    <li>\"hiv\" : 337 missing data</li>\n",
    "   \n",
    "</ol>"
   ]
  },
  {
   "cell_type": "markdown",
   "metadata": {},
   "source": [
    "How will we deal with the missing data? We can either drop or replace the data. Whole columns should be dropped only if most entries in the column are empty. In our dataset, none of the columns are empty enough to drop entirely.\n",
    "We have some freedom in choosing which method to replace data, either by mean or mode;. however, some methods may seem more reasonable than others. We will apply each method to each column:\n",
    "\n",
    "###### Replace by Frequency:\n",
    "<ul>\n",
    "    <li>\"IncomeGroup\": 131 missing data, replace them with frequency</li>\n",
    "</ul>\n",
    "\n",
    "###### Replace by Mean:\n",
    "<ul>\n",
    "    <li>\"hiv\": 337 missing data, replace them with mean</li>"
   ]
  },
  {
   "cell_type": "code",
   "execution_count": 14,
   "metadata": {},
   "outputs": [
    {
     "data": {
      "text/plain": [
       "'High income'"
      ]
     },
     "execution_count": 14,
     "metadata": {},
     "output_type": "execute_result"
    }
   ],
   "source": [
    "#Calculate the highest frequency of the IncomeGroup:\n",
    "avg_inc = tb['IncomeGroup'].value_counts().idxmax()\n",
    "avg_inc"
   ]
  },
  {
   "cell_type": "code",
   "execution_count": 15,
   "metadata": {},
   "outputs": [
    {
     "name": "stderr",
     "output_type": "stream",
     "text": [
      "C:\\Users\\X260\\Anaconda3\\lib\\site-packages\\pandas\\core\\generic.py:5890: SettingWithCopyWarning: \n",
      "A value is trying to be set on a copy of a slice from a DataFrame\n",
      "\n",
      "See the caveats in the documentation: http://pandas.pydata.org/pandas-docs/stable/indexing.html#indexing-view-versus-copy\n",
      "  self._update_inplace(new_data)\n"
     ]
    }
   ],
   "source": [
    "#Replace \"NaN\" by \"High Income\"  in \"IncomeGroup\" column\n",
    "tb['IncomeGroup'].replace('nan', avg_inc, inplace=True)"
   ]
  },
  {
   "cell_type": "code",
   "execution_count": 16,
   "metadata": {},
   "outputs": [
    {
     "data": {
      "text/plain": [
       "6543.257614574438"
      ]
     },
     "execution_count": 16,
     "metadata": {},
     "output_type": "execute_result"
    }
   ],
   "source": [
    "#Calculate the mean of hiv:\n",
    "avg_hiv = tb['hiv'].mean(axis=0)\n",
    "avg_hiv"
   ]
  },
  {
   "cell_type": "code",
   "execution_count": 17,
   "metadata": {},
   "outputs": [],
   "source": [
    "#Replace \"NaN\" by mean in \"hiv\" column\n",
    "tb['hiv'].replace(np.nan, avg_hiv, inplace = True)"
   ]
  },
  {
   "cell_type": "markdown",
   "metadata": {},
   "source": [
    "counter check to see whether there are any missing values"
   ]
  },
  {
   "cell_type": "code",
   "execution_count": 18,
   "metadata": {},
   "outputs": [
    {
     "name": "stdout",
     "output_type": "stream",
     "text": [
      "country\n",
      "False    3850\n",
      "Name: country, dtype: int64\n",
      "region\n",
      "False    3850\n",
      "Name: region, dtype: int64\n",
      "IncomeGroup\n",
      "False    3719\n",
      "True      131\n",
      "Name: IncomeGroup, dtype: int64\n",
      "tb\n",
      "False    3850\n",
      "Name: tb, dtype: int64\n",
      "hiv\n",
      "False    3850\n",
      "Name: hiv, dtype: int64\n",
      "population\n",
      "False    3850\n",
      "Name: population, dtype: int64\n"
     ]
    }
   ],
   "source": [
    "#missing values\n",
    "missing_data = tb.isnull()\n",
    "\n",
    "for column in missing_data.columns.values.tolist():\n",
    "    print(column)\n",
    "    print (missing_data[column].value_counts())"
   ]
  },
  {
   "cell_type": "markdown",
   "metadata": {},
   "source": [
    "<b>Great!</b> The last step will be to check whether our data is in the correct format"
   ]
  },
  {
   "cell_type": "code",
   "execution_count": 19,
   "metadata": {},
   "outputs": [
    {
     "data": {
      "text/plain": [
       "country         object\n",
       "region          object\n",
       "IncomeGroup     object\n",
       "tb               int64\n",
       "hiv            float64\n",
       "population       int64\n",
       "dtype: object"
      ]
     },
     "execution_count": 19,
     "metadata": {},
     "output_type": "execute_result"
    }
   ],
   "source": [
    "tb.dtypes"
   ]
  },
  {
   "cell_type": "markdown",
   "metadata": {},
   "source": [
    "#### Let's find the scatterplot of \"population\" and \"Tb\"\n",
    "\n",
    "In order to start understanding the (linear) relationship between an individual variable and TB. We can do this by using \"regplot\", which plots the scatterplot plus the fitted regression line for the data."
   ]
  },
  {
   "cell_type": "code",
   "execution_count": 20,
   "metadata": {},
   "outputs": [
    {
     "name": "stderr",
     "output_type": "stream",
     "text": [
      "C:\\Users\\X260\\Anaconda3\\lib\\site-packages\\scipy\\stats\\stats.py:1713: FutureWarning: Using a non-tuple sequence for multidimensional indexing is deprecated; use `arr[tuple(seq)]` instead of `arr[seq]`. In the future this will be interpreted as an array index, `arr[np.array(seq)]`, which will result either in an error or a different result.\n",
      "  return np.add.reduce(sorted[indexer] * weights, axis=axis) / sumval\n"
     ]
    },
    {
     "data": {
      "image/png": "[encoded data removed]",
      "text/plain": [
       "<Figure size 432x288 with 1 Axes>"
      ]
     },
     "metadata": {
      "needs_background": "light"
     },
     "output_type": "display_data"
    }
   ],
   "source": [
    "#population as potential predictor variable of tb\n",
    "import seaborn as sns\n",
    "\n",
    "sns.regplot(x=\"population\", y=\"tb\", data=tb)\n",
    "plt.ylim(0,)\n",
    "plt.show()"
   ]
  },
  {
   "cell_type": "code",
   "execution_count": 21,
   "metadata": {},
   "outputs": [
    {
     "data": {
      "text/plain": [
       "(0.8413953198747588, 0.0)"
      ]
     },
     "execution_count": 21,
     "metadata": {},
     "output_type": "execute_result"
    }
   ],
   "source": [
    "#import stats\n",
    "from scipy import stats\n",
    "\n",
    "#correlation and p-value\n",
    "pearson_coef, p_value = stats.pearsonr(tb['population'], tb['tb'])\n",
    "pearson_coef,p_value"
   ]
  },
  {
   "cell_type": "markdown",
   "metadata": {},
   "source": [
    "While theres is a positive direct correlation between these two variables, the p_value = 0.0 , the The plot would make more sense if we grouped our figures by our exploratory variables Region and IncomeGroup"
   ]
  },
  {
   "cell_type": "code",
   "execution_count": 22,
   "metadata": {},
   "outputs": [
    {
     "data": {
      "text/html": [
       "<div>\n",
       "<style scoped>\n",
       "    .dataframe tbody tr th:only-of-type {\n",
       "        vertical-align: middle;\n",
       "    }\n",
       "\n",
       "    .dataframe tbody tr th {\n",
       "        vertical-align: top;\n",
       "    }\n",
       "\n",
       "    .dataframe thead th {\n",
       "        text-align: right;\n",
       "    }\n",
       "</style>\n",
       "<table border=\"1\" class=\"dataframe\">\n",
       "  <thead>\n",
       "    <tr style=\"text-align: right;\">\n",
       "      <th></th>\n",
       "      <th>country</th>\n",
       "      <th>tb</th>\n",
       "      <th>hiv</th>\n",
       "      <th>population</th>\n",
       "    </tr>\n",
       "  </thead>\n",
       "  <tbody>\n",
       "    <tr>\n",
       "      <th>0</th>\n",
       "      <td>Afghanistan</td>\n",
       "      <td>52666.666667</td>\n",
       "      <td>135.111111</td>\n",
       "      <td>2.781802e+07</td>\n",
       "    </tr>\n",
       "    <tr>\n",
       "      <th>1</th>\n",
       "      <td>Albania</td>\n",
       "      <td>551.111111</td>\n",
       "      <td>2.833333</td>\n",
       "      <td>3.005040e+06</td>\n",
       "    </tr>\n",
       "    <tr>\n",
       "      <th>2</th>\n",
       "      <td>Algeria</td>\n",
       "      <td>26500.000000</td>\n",
       "      <td>112.611111</td>\n",
       "      <td>3.563606e+07</td>\n",
       "    </tr>\n",
       "    <tr>\n",
       "      <th>3</th>\n",
       "      <td>American Samoa</td>\n",
       "      <td>4.222222</td>\n",
       "      <td>0.000000</td>\n",
       "      <td>5.696911e+04</td>\n",
       "    </tr>\n",
       "    <tr>\n",
       "      <th>4</th>\n",
       "      <td>Andorra</td>\n",
       "      <td>8.000000</td>\n",
       "      <td>6543.257615</td>\n",
       "      <td>7.810956e+04</td>\n",
       "    </tr>\n",
       "    <tr>\n",
       "      <th>5</th>\n",
       "      <td>Angola</td>\n",
       "      <td>81722.222222</td>\n",
       "      <td>13750.000000</td>\n",
       "      <td>2.251373e+07</td>\n",
       "    </tr>\n",
       "    <tr>\n",
       "      <th>6</th>\n",
       "      <td>Anguilla</td>\n",
       "      <td>2.944444</td>\n",
       "      <td>6543.257615</td>\n",
       "      <td>1.327783e+04</td>\n",
       "    </tr>\n",
       "    <tr>\n",
       "      <th>7</th>\n",
       "      <td>Antigua and Barbuda</td>\n",
       "      <td>4.222222</td>\n",
       "      <td>1.666667</td>\n",
       "      <td>9.301139e+04</td>\n",
       "    </tr>\n",
       "    <tr>\n",
       "      <th>8</th>\n",
       "      <td>Argentina</td>\n",
       "      <td>11405.555556</td>\n",
       "      <td>1158.333333</td>\n",
       "      <td>4.063044e+07</td>\n",
       "    </tr>\n",
       "    <tr>\n",
       "      <th>9</th>\n",
       "      <td>Armenia</td>\n",
       "      <td>1811.111111</td>\n",
       "      <td>48.833333</td>\n",
       "      <td>2.947163e+06</td>\n",
       "    </tr>\n",
       "    <tr>\n",
       "      <th>10</th>\n",
       "      <td>Aruba</td>\n",
       "      <td>10.555556</td>\n",
       "      <td>6543.257615</td>\n",
       "      <td>1.003941e+05</td>\n",
       "    </tr>\n",
       "    <tr>\n",
       "      <th>11</th>\n",
       "      <td>Australia</td>\n",
       "      <td>1355.555556</td>\n",
       "      <td>38.333333</td>\n",
       "      <td>2.159549e+07</td>\n",
       "    </tr>\n",
       "    <tr>\n",
       "      <th>12</th>\n",
       "      <td>Austria</td>\n",
       "      <td>897.222222</td>\n",
       "      <td>28.222222</td>\n",
       "      <td>8.387631e+06</td>\n",
       "    </tr>\n",
       "    <tr>\n",
       "      <th>13</th>\n",
       "      <td>Azerbaijan</td>\n",
       "      <td>7566.666667</td>\n",
       "      <td>75.833333</td>\n",
       "      <td>8.919442e+06</td>\n",
       "    </tr>\n",
       "    <tr>\n",
       "      <th>14</th>\n",
       "      <td>Bahamas</td>\n",
       "      <td>58.500000</td>\n",
       "      <td>21.111111</td>\n",
       "      <td>3.495373e+05</td>\n",
       "    </tr>\n",
       "    <tr>\n",
       "      <th>15</th>\n",
       "      <td>Bahrain</td>\n",
       "      <td>265.000000</td>\n",
       "      <td>10.000000</td>\n",
       "      <td>1.091652e+06</td>\n",
       "    </tr>\n",
       "    <tr>\n",
       "      <th>16</th>\n",
       "      <td>Bangladesh</td>\n",
       "      <td>330000.000000</td>\n",
       "      <td>415.555556</td>\n",
       "      <td>1.491890e+08</td>\n",
       "    </tr>\n",
       "    <tr>\n",
       "      <th>17</th>\n",
       "      <td>Barbados</td>\n",
       "      <td>6.333333</td>\n",
       "      <td>3.444444</td>\n",
       "      <td>2.778293e+05</td>\n",
       "    </tr>\n",
       "    <tr>\n",
       "      <th>18</th>\n",
       "      <td>Belarus</td>\n",
       "      <td>6094.444444</td>\n",
       "      <td>193.277778</td>\n",
       "      <td>9.587160e+06</td>\n",
       "    </tr>\n",
       "    <tr>\n",
       "      <th>19</th>\n",
       "      <td>Belgium</td>\n",
       "      <td>1177.777778</td>\n",
       "      <td>77.833333</td>\n",
       "      <td>1.082503e+07</td>\n",
       "    </tr>\n",
       "    <tr>\n",
       "      <th>20</th>\n",
       "      <td>Belize</td>\n",
       "      <td>115.000000</td>\n",
       "      <td>22.888889</td>\n",
       "      <td>3.103638e+05</td>\n",
       "    </tr>\n",
       "    <tr>\n",
       "      <th>21</th>\n",
       "      <td>Benin</td>\n",
       "      <td>6111.111111</td>\n",
       "      <td>939.444444</td>\n",
       "      <td>8.894916e+06</td>\n",
       "    </tr>\n",
       "    <tr>\n",
       "      <th>22</th>\n",
       "      <td>Bermuda</td>\n",
       "      <td>1.888889</td>\n",
       "      <td>0.000000</td>\n",
       "      <td>6.376644e+04</td>\n",
       "    </tr>\n",
       "    <tr>\n",
       "      <th>23</th>\n",
       "      <td>Bhutan</td>\n",
       "      <td>1316.666667</td>\n",
       "      <td>2.333333</td>\n",
       "      <td>7.010918e+05</td>\n",
       "    </tr>\n",
       "    <tr>\n",
       "      <th>24</th>\n",
       "      <td>Bolivia (Plurinational State of)</td>\n",
       "      <td>13722.222222</td>\n",
       "      <td>471.111111</td>\n",
       "      <td>9.685466e+06</td>\n",
       "    </tr>\n",
       "    <tr>\n",
       "      <th>25</th>\n",
       "      <td>Bonaire, Saint Eustatius and Saba</td>\n",
       "      <td>0.500000</td>\n",
       "      <td>6543.257615</td>\n",
       "      <td>2.354275e+04</td>\n",
       "    </tr>\n",
       "    <tr>\n",
       "      <th>26</th>\n",
       "      <td>Bosnia and Herzegovina</td>\n",
       "      <td>2070.000000</td>\n",
       "      <td>1.666667</td>\n",
       "      <td>3.694968e+06</td>\n",
       "    </tr>\n",
       "    <tr>\n",
       "      <th>27</th>\n",
       "      <td>Botswana</td>\n",
       "      <td>11461.111111</td>\n",
       "      <td>7555.555556</td>\n",
       "      <td>1.982297e+06</td>\n",
       "    </tr>\n",
       "    <tr>\n",
       "      <th>28</th>\n",
       "      <td>Brazil</td>\n",
       "      <td>89722.222222</td>\n",
       "      <td>14833.333333</td>\n",
       "      <td>1.933783e+08</td>\n",
       "    </tr>\n",
       "    <tr>\n",
       "      <th>29</th>\n",
       "      <td>British Virgin Islands</td>\n",
       "      <td>0.500000</td>\n",
       "      <td>6543.257615</td>\n",
       "      <td>2.588350e+04</td>\n",
       "    </tr>\n",
       "    <tr>\n",
       "      <th>...</th>\n",
       "      <td>...</td>\n",
       "      <td>...</td>\n",
       "      <td>...</td>\n",
       "      <td>...</td>\n",
       "    </tr>\n",
       "    <tr>\n",
       "      <th>188</th>\n",
       "      <td>Syrian Arab Republic</td>\n",
       "      <td>4844.444444</td>\n",
       "      <td>45.722222</td>\n",
       "      <td>1.890174e+07</td>\n",
       "    </tr>\n",
       "    <tr>\n",
       "      <th>189</th>\n",
       "      <td>Tajikistan</td>\n",
       "      <td>10866.666667</td>\n",
       "      <td>375.555556</td>\n",
       "      <td>7.459363e+06</td>\n",
       "    </tr>\n",
       "    <tr>\n",
       "      <th>190</th>\n",
       "      <td>Thailand</td>\n",
       "      <td>131611.111111</td>\n",
       "      <td>18333.333333</td>\n",
       "      <td>6.648366e+07</td>\n",
       "    </tr>\n",
       "    <tr>\n",
       "      <th>191</th>\n",
       "      <td>The Former Yugoslav Republic of Macedonia</td>\n",
       "      <td>578.333333</td>\n",
       "      <td>0.666667</td>\n",
       "      <td>2.065360e+06</td>\n",
       "    </tr>\n",
       "    <tr>\n",
       "      <th>192</th>\n",
       "      <td>Timor-Leste</td>\n",
       "      <td>5537.500000</td>\n",
       "      <td>16.312500</td>\n",
       "      <td>1.112037e+06</td>\n",
       "    </tr>\n",
       "    <tr>\n",
       "      <th>193</th>\n",
       "      <td>Togo</td>\n",
       "      <td>3977.777778</td>\n",
       "      <td>1029.444444</td>\n",
       "      <td>6.300265e+06</td>\n",
       "    </tr>\n",
       "    <tr>\n",
       "      <th>194</th>\n",
       "      <td>Tokelau</td>\n",
       "      <td>0.111111</td>\n",
       "      <td>6543.257615</td>\n",
       "      <td>1.254556e+03</td>\n",
       "    </tr>\n",
       "    <tr>\n",
       "      <th>195</th>\n",
       "      <td>Tonga</td>\n",
       "      <td>16.666667</td>\n",
       "      <td>0.000000</td>\n",
       "      <td>1.030027e+05</td>\n",
       "    </tr>\n",
       "    <tr>\n",
       "      <th>196</th>\n",
       "      <td>Trinidad and Tobago</td>\n",
       "      <td>247.222222</td>\n",
       "      <td>62.111111</td>\n",
       "      <td>1.318917e+06</td>\n",
       "    </tr>\n",
       "    <tr>\n",
       "      <th>197</th>\n",
       "      <td>Tunisia</td>\n",
       "      <td>3166.666667</td>\n",
       "      <td>17.777778</td>\n",
       "      <td>1.052711e+07</td>\n",
       "    </tr>\n",
       "    <tr>\n",
       "      <th>198</th>\n",
       "      <td>Turkey</td>\n",
       "      <td>18500.000000</td>\n",
       "      <td>99.277778</td>\n",
       "      <td>7.140915e+07</td>\n",
       "    </tr>\n",
       "    <tr>\n",
       "      <th>199</th>\n",
       "      <td>Turkmenistan</td>\n",
       "      <td>3938.888889</td>\n",
       "      <td>147.222222</td>\n",
       "      <td>5.043082e+06</td>\n",
       "    </tr>\n",
       "    <tr>\n",
       "      <th>200</th>\n",
       "      <td>Turks and Caicos Islands</td>\n",
       "      <td>5.388889</td>\n",
       "      <td>1.333333</td>\n",
       "      <td>2.879900e+04</td>\n",
       "    </tr>\n",
       "    <tr>\n",
       "      <th>201</th>\n",
       "      <td>Tuvalu</td>\n",
       "      <td>19.666667</td>\n",
       "      <td>0.000000</td>\n",
       "      <td>1.035094e+04</td>\n",
       "    </tr>\n",
       "    <tr>\n",
       "      <th>202</th>\n",
       "      <td>Uganda</td>\n",
       "      <td>71888.888889</td>\n",
       "      <td>37833.333333</td>\n",
       "      <td>3.267360e+07</td>\n",
       "    </tr>\n",
       "    <tr>\n",
       "      <th>203</th>\n",
       "      <td>Ukraine</td>\n",
       "      <td>51277.777778</td>\n",
       "      <td>5955.555556</td>\n",
       "      <td>4.622950e+07</td>\n",
       "    </tr>\n",
       "    <tr>\n",
       "      <th>204</th>\n",
       "      <td>United Arab Emirates</td>\n",
       "      <td>103.944444</td>\n",
       "      <td>2.055556</td>\n",
       "      <td>6.666066e+06</td>\n",
       "    </tr>\n",
       "    <tr>\n",
       "      <th>205</th>\n",
       "      <td>United Kingdom of Great Britain and Northern I...</td>\n",
       "      <td>8094.444444</td>\n",
       "      <td>468.888889</td>\n",
       "      <td>6.236720e+07</td>\n",
       "    </tr>\n",
       "    <tr>\n",
       "      <th>206</th>\n",
       "      <td>United Republic of Tanzania</td>\n",
       "      <td>184944.444444</td>\n",
       "      <td>77777.777778</td>\n",
       "      <td>4.461609e+07</td>\n",
       "    </tr>\n",
       "    <tr>\n",
       "      <th>207</th>\n",
       "      <td>United States of America</td>\n",
       "      <td>13833.333333</td>\n",
       "      <td>1556.666667</td>\n",
       "      <td>3.040424e+08</td>\n",
       "    </tr>\n",
       "    <tr>\n",
       "      <th>208</th>\n",
       "      <td>Uruguay</td>\n",
       "      <td>841.666667</td>\n",
       "      <td>126.944444</td>\n",
       "      <td>3.369584e+06</td>\n",
       "    </tr>\n",
       "    <tr>\n",
       "      <th>209</th>\n",
       "      <td>Uzbekistan</td>\n",
       "      <td>27611.111111</td>\n",
       "      <td>572.777778</td>\n",
       "      <td>2.812080e+07</td>\n",
       "    </tr>\n",
       "    <tr>\n",
       "      <th>210</th>\n",
       "      <td>Vanuatu</td>\n",
       "      <td>165.555556</td>\n",
       "      <td>32.777778</td>\n",
       "      <td>2.289106e+05</td>\n",
       "    </tr>\n",
       "    <tr>\n",
       "      <th>211</th>\n",
       "      <td>Venezuela (Bolivarian Republic of)</td>\n",
       "      <td>8555.555556</td>\n",
       "      <td>995.000000</td>\n",
       "      <td>2.831259e+07</td>\n",
       "    </tr>\n",
       "    <tr>\n",
       "      <th>212</th>\n",
       "      <td>Viet Nam</td>\n",
       "      <td>141055.555556</td>\n",
       "      <td>9933.333333</td>\n",
       "      <td>8.751715e+07</td>\n",
       "    </tr>\n",
       "    <tr>\n",
       "      <th>213</th>\n",
       "      <td>Wallis and Futuna Islands</td>\n",
       "      <td>5.666667</td>\n",
       "      <td>6543.257615</td>\n",
       "      <td>1.354817e+04</td>\n",
       "    </tr>\n",
       "    <tr>\n",
       "      <th>214</th>\n",
       "      <td>West Bank and Gaza Strip</td>\n",
       "      <td>50.666667</td>\n",
       "      <td>0.000000</td>\n",
       "      <td>3.973355e+06</td>\n",
       "    </tr>\n",
       "    <tr>\n",
       "      <th>215</th>\n",
       "      <td>Yemen</td>\n",
       "      <td>14833.333333</td>\n",
       "      <td>93.888889</td>\n",
       "      <td>2.282400e+07</td>\n",
       "    </tr>\n",
       "    <tr>\n",
       "      <th>216</th>\n",
       "      <td>Zambia</td>\n",
       "      <td>70000.000000</td>\n",
       "      <td>45722.222222</td>\n",
       "      <td>1.348361e+07</td>\n",
       "    </tr>\n",
       "    <tr>\n",
       "      <th>217</th>\n",
       "      <td>Zimbabwe</td>\n",
       "      <td>61055.555556</td>\n",
       "      <td>45611.111111</td>\n",
       "      <td>1.396507e+07</td>\n",
       "    </tr>\n",
       "  </tbody>\n",
       "</table>\n",
       "<p>218 rows × 4 columns</p>\n",
       "</div>"
      ],
      "text/plain": [
       "                                               country             tb  \\\n",
       "0                                          Afghanistan   52666.666667   \n",
       "1                                              Albania     551.111111   \n",
       "2                                              Algeria   26500.000000   \n",
       "3                                       American Samoa       4.222222   \n",
       "4                                              Andorra       8.000000   \n",
       "5                                               Angola   81722.222222   \n",
       "6                                             Anguilla       2.944444   \n",
       "7                                  Antigua and Barbuda       4.222222   \n",
       "8                                            Argentina   11405.555556   \n",
       "9                                              Armenia    1811.111111   \n",
       "10                                               Aruba      10.555556   \n",
       "11                                           Australia    1355.555556   \n",
       "12                                             Austria     897.222222   \n",
       "13                                          Azerbaijan    7566.666667   \n",
       "14                                             Bahamas      58.500000   \n",
       "15                                             Bahrain     265.000000   \n",
       "16                                          Bangladesh  330000.000000   \n",
       "17                                            Barbados       6.333333   \n",
       "18                                             Belarus    6094.444444   \n",
       "19                                             Belgium    1177.777778   \n",
       "20                                              Belize     115.000000   \n",
       "21                                               Benin    6111.111111   \n",
       "22                                             Bermuda       1.888889   \n",
       "23                                              Bhutan    1316.666667   \n",
       "24                    Bolivia (Plurinational State of)   13722.222222   \n",
       "25                   Bonaire, Saint Eustatius and Saba       0.500000   \n",
       "26                              Bosnia and Herzegovina    2070.000000   \n",
       "27                                            Botswana   11461.111111   \n",
       "28                                              Brazil   89722.222222   \n",
       "29                              British Virgin Islands       0.500000   \n",
       "..                                                 ...            ...   \n",
       "188                               Syrian Arab Republic    4844.444444   \n",
       "189                                         Tajikistan   10866.666667   \n",
       "190                                           Thailand  131611.111111   \n",
       "191          The Former Yugoslav Republic of Macedonia     578.333333   \n",
       "192                                        Timor-Leste    5537.500000   \n",
       "193                                               Togo    3977.777778   \n",
       "194                                            Tokelau       0.111111   \n",
       "195                                              Tonga      16.666667   \n",
       "196                                Trinidad and Tobago     247.222222   \n",
       "197                                            Tunisia    3166.666667   \n",
       "198                                             Turkey   18500.000000   \n",
       "199                                       Turkmenistan    3938.888889   \n",
       "200                           Turks and Caicos Islands       5.388889   \n",
       "201                                             Tuvalu      19.666667   \n",
       "202                                             Uganda   71888.888889   \n",
       "203                                            Ukraine   51277.777778   \n",
       "204                               United Arab Emirates     103.944444   \n",
       "205  United Kingdom of Great Britain and Northern I...    8094.444444   \n",
       "206                        United Republic of Tanzania  184944.444444   \n",
       "207                           United States of America   13833.333333   \n",
       "208                                            Uruguay     841.666667   \n",
       "209                                         Uzbekistan   27611.111111   \n",
       "210                                            Vanuatu     165.555556   \n",
       "211                 Venezuela (Bolivarian Republic of)    8555.555556   \n",
       "212                                           Viet Nam  141055.555556   \n",
       "213                          Wallis and Futuna Islands       5.666667   \n",
       "214                           West Bank and Gaza Strip      50.666667   \n",
       "215                                              Yemen   14833.333333   \n",
       "216                                             Zambia   70000.000000   \n",
       "217                                           Zimbabwe   61055.555556   \n",
       "\n",
       "              hiv    population  \n",
       "0      135.111111  2.781802e+07  \n",
       "1        2.833333  3.005040e+06  \n",
       "2      112.611111  3.563606e+07  \n",
       "3        0.000000  5.696911e+04  \n",
       "4     6543.257615  7.810956e+04  \n",
       "5    13750.000000  2.251373e+07  \n",
       "6     6543.257615  1.327783e+04  \n",
       "7        1.666667  9.301139e+04  \n",
       "8     1158.333333  4.063044e+07  \n",
       "9       48.833333  2.947163e+06  \n",
       "10    6543.257615  1.003941e+05  \n",
       "11      38.333333  2.159549e+07  \n",
       "12      28.222222  8.387631e+06  \n",
       "13      75.833333  8.919442e+06  \n",
       "14      21.111111  3.495373e+05  \n",
       "15      10.000000  1.091652e+06  \n",
       "16     415.555556  1.491890e+08  \n",
       "17       3.444444  2.778293e+05  \n",
       "18     193.277778  9.587160e+06  \n",
       "19      77.833333  1.082503e+07  \n",
       "20      22.888889  3.103638e+05  \n",
       "21     939.444444  8.894916e+06  \n",
       "22       0.000000  6.376644e+04  \n",
       "23       2.333333  7.010918e+05  \n",
       "24     471.111111  9.685466e+06  \n",
       "25    6543.257615  2.354275e+04  \n",
       "26       1.666667  3.694968e+06  \n",
       "27    7555.555556  1.982297e+06  \n",
       "28   14833.333333  1.933783e+08  \n",
       "29    6543.257615  2.588350e+04  \n",
       "..            ...           ...  \n",
       "188     45.722222  1.890174e+07  \n",
       "189    375.555556  7.459363e+06  \n",
       "190  18333.333333  6.648366e+07  \n",
       "191      0.666667  2.065360e+06  \n",
       "192     16.312500  1.112037e+06  \n",
       "193   1029.444444  6.300265e+06  \n",
       "194   6543.257615  1.254556e+03  \n",
       "195      0.000000  1.030027e+05  \n",
       "196     62.111111  1.318917e+06  \n",
       "197     17.777778  1.052711e+07  \n",
       "198     99.277778  7.140915e+07  \n",
       "199    147.222222  5.043082e+06  \n",
       "200      1.333333  2.879900e+04  \n",
       "201      0.000000  1.035094e+04  \n",
       "202  37833.333333  3.267360e+07  \n",
       "203   5955.555556  4.622950e+07  \n",
       "204      2.055556  6.666066e+06  \n",
       "205    468.888889  6.236720e+07  \n",
       "206  77777.777778  4.461609e+07  \n",
       "207   1556.666667  3.040424e+08  \n",
       "208    126.944444  3.369584e+06  \n",
       "209    572.777778  2.812080e+07  \n",
       "210     32.777778  2.289106e+05  \n",
       "211    995.000000  2.831259e+07  \n",
       "212   9933.333333  8.751715e+07  \n",
       "213   6543.257615  1.354817e+04  \n",
       "214      0.000000  3.973355e+06  \n",
       "215     93.888889  2.282400e+07  \n",
       "216  45722.222222  1.348361e+07  \n",
       "217  45611.111111  1.396507e+07  \n",
       "\n",
       "[218 rows x 4 columns]"
      ]
     },
     "execution_count": 22,
     "metadata": {},
     "output_type": "execute_result"
    }
   ],
   "source": [
    "#group by region\n",
    "tb_grouped = tb.groupby(['country'],as_index=False).mean()\n",
    "tb_grouped"
   ]
  },
  {
   "cell_type": "code",
   "execution_count": 23,
   "metadata": {},
   "outputs": [
    {
     "data": {
      "image/png": "[encoded data removed]",
      "text/plain": [
       "<Figure size 432x288 with 1 Axes>"
      ]
     },
     "metadata": {
      "needs_background": "light"
     },
     "output_type": "display_data"
    }
   ],
   "source": [
    "# Population as potential predictor variable of TB\n",
    "sns.regplot(x=\"population\", y=\"tb\", data=tb_grouped)\n",
    "plt.ylim(0,)\n",
    "plt.show()"
   ]
  },
  {
   "cell_type": "markdown",
   "metadata": {},
   "source": [
    "As the population goes up, TB goes up: this indicates a positive direct correlation between these two variables. Population seems like a pretty good predictor of TB since the regression line is almost a perfect diagonal line.\n",
    "\n",
    "We can examine the correlation and P-value between Population and TB. It is important to get p_value as well because correlation does not imply causation."
   ]
  },
  {
   "cell_type": "code",
   "execution_count": 24,
   "metadata": {},
   "outputs": [
    {
     "data": {
      "text/plain": [
       "(0.847247782448396, 2.8892800050802678e-61)"
      ]
     },
     "execution_count": 24,
     "metadata": {},
     "output_type": "execute_result"
    }
   ],
   "source": [
    "#correlation and p-value\n",
    "pearson_coef, p_value = stats.pearsonr(tb_grouped['population'], tb_grouped['tb'])\n",
    "pearson_coef,p_value"
   ]
  },
  {
   "cell_type": "markdown",
   "metadata": {},
   "source": [
    "#### Conclusion:\n",
    "\n",
    "Since the p-value is $<$ 0.001, the correlation between Population and Tb is statistically significant, and the linear relationship is extremely strong since 0.98 is close to 1. Therefore, population grouped by region is a good predicator of Tb if not the prefect predicator."
   ]
  },
  {
   "cell_type": "markdown",
   "metadata": {},
   "source": [
    "#### Let's find the scatterplot of \"hiv\" and \"Tb\""
   ]
  },
  {
   "cell_type": "code",
   "execution_count": 25,
   "metadata": {},
   "outputs": [
    {
     "data": {
      "image/png": "[encoded data removed]",
      "text/plain": [
       "<Figure size 432x288 with 1 Axes>"
      ]
     },
     "metadata": {
      "needs_background": "light"
     },
     "output_type": "display_data"
    }
   ],
   "source": [
    "# HIV as a potential predictor variable of TB\n",
    "sns.regplot(x=\"hiv\", y=\"tb\", data=tb_grouped)\n",
    "plt.ylim(0,)\n",
    "plt.show()"
   ]
  },
  {
   "cell_type": "code",
   "execution_count": 26,
   "metadata": {},
   "outputs": [
    {
     "data": {
      "text/plain": [
       "(0.6017785987409914, 7.27540684752435e-23)"
      ]
     },
     "execution_count": 26,
     "metadata": {},
     "output_type": "execute_result"
    }
   ],
   "source": [
    "#correlation and p-value\n",
    "pearson_coef, p_value = stats.pearsonr(tb_grouped['hiv'], tb_grouped['tb'])\n",
    "pearson_coef,p_value"
   ]
  },
  {
   "cell_type": "markdown",
   "metadata": {},
   "source": [
    "#### Conclusion:\n",
    "\n",
    "Since the p-value is $<$ 0.1 and $>$ 0.05 there is weak evidence that the correlation between hiv and tb is significant even though the linear relationship is a bit strong (0.749 is close to 1). HIV will not be good predicator of TB"
   ]
  },
  {
   "cell_type": "markdown",
   "metadata": {},
   "source": [
    "#### Let's find the scatterplot of \"population\" and \"Tb\" grouping by IncomeGroup"
   ]
  },
  {
   "cell_type": "code",
   "execution_count": 27,
   "metadata": {
    "scrolled": true
   },
   "outputs": [
    {
     "data": {
      "text/html": [
       "<div>\n",
       "<style scoped>\n",
       "    .dataframe tbody tr th:only-of-type {\n",
       "        vertical-align: middle;\n",
       "    }\n",
       "\n",
       "    .dataframe tbody tr th {\n",
       "        vertical-align: top;\n",
       "    }\n",
       "\n",
       "    .dataframe thead th {\n",
       "        text-align: right;\n",
       "    }\n",
       "</style>\n",
       "<table border=\"1\" class=\"dataframe\">\n",
       "  <thead>\n",
       "    <tr style=\"text-align: right;\">\n",
       "      <th></th>\n",
       "      <th>IncomeGroup</th>\n",
       "      <th>tb</th>\n",
       "      <th>hiv</th>\n",
       "      <th>population</th>\n",
       "    </tr>\n",
       "  </thead>\n",
       "  <tbody>\n",
       "    <tr>\n",
       "      <th>0</th>\n",
       "      <td>High income</td>\n",
       "      <td>2524.389490</td>\n",
       "      <td>886.515578</td>\n",
       "      <td>1.611928e+07</td>\n",
       "    </tr>\n",
       "    <tr>\n",
       "      <th>1</th>\n",
       "      <td>Low income</td>\n",
       "      <td>44560.299501</td>\n",
       "      <td>10921.745424</td>\n",
       "      <td>1.757557e+07</td>\n",
       "    </tr>\n",
       "    <tr>\n",
       "      <th>2</th>\n",
       "      <td>Lower middle income</td>\n",
       "      <td>146270.946731</td>\n",
       "      <td>12374.131522</td>\n",
       "      <td>5.724501e+07</td>\n",
       "    </tr>\n",
       "    <tr>\n",
       "      <th>3</th>\n",
       "      <td>Upper middle income</td>\n",
       "      <td>39598.697395</td>\n",
       "      <td>6415.052379</td>\n",
       "      <td>4.395249e+07</td>\n",
       "    </tr>\n",
       "  </tbody>\n",
       "</table>\n",
       "</div>"
      ],
      "text/plain": [
       "           IncomeGroup             tb           hiv    population\n",
       "0          High income    2524.389490    886.515578  1.611928e+07\n",
       "1           Low income   44560.299501  10921.745424  1.757557e+07\n",
       "2  Lower middle income  146270.946731  12374.131522  5.724501e+07\n",
       "3  Upper middle income   39598.697395   6415.052379  4.395249e+07"
      ]
     },
     "execution_count": 27,
     "metadata": {},
     "output_type": "execute_result"
    }
   ],
   "source": [
    "#grouping\n",
    "tb_grouped2 = tb.groupby(['IncomeGroup'],as_index=False).mean()\n",
    "tb_grouped2"
   ]
  },
  {
   "cell_type": "code",
   "execution_count": 28,
   "metadata": {},
   "outputs": [
    {
     "data": {
      "image/png": "[encoded data removed]",
      "text/plain": [
       "<Figure size 432x288 with 1 Axes>"
      ]
     },
     "metadata": {
      "needs_background": "light"
     },
     "output_type": "display_data"
    }
   ],
   "source": [
    "sns.regplot(x=\"population\", y=\"tb\", data=tb_grouped2)\n",
    "plt.ylim(0,)\n",
    "plt.show()"
   ]
  },
  {
   "cell_type": "code",
   "execution_count": 29,
   "metadata": {},
   "outputs": [
    {
     "data": {
      "text/plain": [
       "(0.8238693457429606, 0.1761306542570395)"
      ]
     },
     "execution_count": 29,
     "metadata": {},
     "output_type": "execute_result"
    }
   ],
   "source": [
    "#correlation and p-value\n",
    "pearson_coef, p_value = stats.pearsonr(tb_grouped2['population'], tb_grouped2['tb'])\n",
    "pearson_coef,p_value"
   ]
  },
  {
   "cell_type": "markdown",
   "metadata": {},
   "source": [
    "#### Conclusion:\n",
    "\n",
    "Since the p-value is $>$ 0.1 , there is no evidence that the correlation is significant, though the linear relationship is strong (0.823 close to 1) Population based on Income class is not a good predicator of Tb."
   ]
  },
  {
   "cell_type": "markdown",
   "metadata": {},
   "source": [
    "Now that we know that population and region have a stong correlation to TB we should expect ANOVA to return a sizeable F-test score and a small p-value for region."
   ]
  },
  {
   "cell_type": "markdown",
   "metadata": {},
   "source": [
    "### Creating a linear regression model"
   ]
  },
  {
   "cell_type": "code",
   "execution_count": 30,
   "metadata": {},
   "outputs": [],
   "source": [
    "#load the models for linear regression\n",
    "from sklearn.linear_model import LinearRegression"
   ]
  },
  {
   "cell_type": "code",
   "execution_count": 31,
   "metadata": {},
   "outputs": [
    {
     "data": {
      "text/plain": [
       "LinearRegression(copy_X=True, fit_intercept=True, n_jobs=None,\n",
       "         normalize=False)"
      ]
     },
     "execution_count": 31,
     "metadata": {},
     "output_type": "execute_result"
    }
   ],
   "source": [
    "#create linear regression object\n",
    "lm = LinearRegression()\n",
    "lm"
   ]
  },
  {
   "cell_type": "markdown",
   "metadata": {},
   "source": [
    "#### How could population helps us predict Tb?\n",
    "\n",
    "We want to look at how Population can help us predict TB. Using simple linear regression, we will create a linear function with \"population\" as the predictor variable and the \"tb\" as the response variable."
   ]
  },
  {
   "cell_type": "code",
   "execution_count": 32,
   "metadata": {},
   "outputs": [],
   "source": [
    "X = tb_grouped[['population']]\n",
    "Y = tb_grouped[['tb']]"
   ]
  },
  {
   "cell_type": "code",
   "execution_count": 33,
   "metadata": {},
   "outputs": [
    {
     "data": {
      "text/plain": [
       "LinearRegression(copy_X=True, fit_intercept=True, n_jobs=None,\n",
       "         normalize=False)"
      ]
     },
     "execution_count": 33,
     "metadata": {},
     "output_type": "execute_result"
    }
   ],
   "source": [
    "#Fit the linear model using population.\n",
    "lm.fit(X,Y)"
   ]
  },
  {
   "cell_type": "code",
   "execution_count": 34,
   "metadata": {},
   "outputs": [
    {
     "data": {
      "text/plain": [
       "array([[43106.12531439],\n",
       "       [ 4325.47602444],\n",
       "       [55325.06765604],\n",
       "       [ -282.11652226],\n",
       "       [ -249.07574789]])"
      ]
     },
     "execution_count": 34,
     "metadata": {},
     "output_type": "execute_result"
    }
   ],
   "source": [
    "#Output a prediction\n",
    "Yhat=lm.predict(X)\n",
    "Yhat[0:5]   "
   ]
  },
  {
   "cell_type": "markdown",
   "metadata": {},
   "source": [
    "What is the value of the intercept?"
   ]
  },
  {
   "cell_type": "code",
   "execution_count": 35,
   "metadata": {},
   "outputs": [
    {
     "data": {
      "text/plain": [
       "array([-371.1545532])"
      ]
     },
     "execution_count": 35,
     "metadata": {},
     "output_type": "execute_result"
    }
   ],
   "source": [
    "lm.intercept_"
   ]
  },
  {
   "cell_type": "markdown",
   "metadata": {},
   "source": [
    "What is the value of the slope?"
   ]
  },
  {
   "cell_type": "code",
   "execution_count": 36,
   "metadata": {},
   "outputs": [
    {
     "data": {
      "text/plain": [
       "array([[0.00156292]])"
      ]
     },
     "execution_count": 36,
     "metadata": {},
     "output_type": "execute_result"
    }
   ],
   "source": [
    "lm.coef_"
   ]
  },
  {
   "cell_type": "code",
   "execution_count": null,
   "metadata": {},
   "outputs": [],
   "source": []
  }
 ],
 "metadata": {
  "kernelspec": {
   "display_name": "Python 3",
   "language": "python",
   "name": "python3"
  },
  "language_info": {
   "codemirror_mode": {
    "name": "ipython",
    "version": 3
   },
   "file_extension": ".py",
   "mimetype": "text/x-python",
   "name": "python",
   "nbconvert_exporter": "python",
   "pygments_lexer": "ipython3",
   "version": "3.7.1"
  }
 },
 "nbformat": 4,
 "nbformat_minor": 2
}
